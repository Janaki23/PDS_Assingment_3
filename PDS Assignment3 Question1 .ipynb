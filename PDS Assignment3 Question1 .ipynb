{
 "cells": [
  {
   "cell_type": "code",
   "execution_count": 7,
   "id": "f96808df",
   "metadata": {
    "scrolled": true
   },
   "outputs": [
    {
     "name": "stdout",
     "output_type": "stream",
     "text": [
      "Requirement already satisfied: dash in c:\\users\\nadip\\onedrive\\a\\lib\\site-packages (2.16.1)Note: you may need to restart the kernel to use updated packages.\n",
      "\n",
      "Requirement already satisfied: Flask<3.1,>=1.0.4 in c:\\users\\nadip\\onedrive\\a\\lib\\site-packages (from dash) (2.2.2)\n",
      "Requirement already satisfied: Werkzeug<3.1 in c:\\users\\nadip\\onedrive\\a\\lib\\site-packages (from dash) (2.2.3)\n",
      "Requirement already satisfied: plotly>=5.0.0 in c:\\users\\nadip\\onedrive\\a\\lib\\site-packages (from dash) (5.9.0)\n",
      "Requirement already satisfied: dash-html-components==2.0.0 in c:\\users\\nadip\\onedrive\\a\\lib\\site-packages (from dash) (2.0.0)\n",
      "Requirement already satisfied: dash-core-components==2.0.0 in c:\\users\\nadip\\onedrive\\a\\lib\\site-packages (from dash) (2.0.0)\n",
      "Requirement already satisfied: dash-table==5.0.0 in c:\\users\\nadip\\onedrive\\a\\lib\\site-packages (from dash) (5.0.0)\n",
      "Requirement already satisfied: importlib-metadata in c:\\users\\nadip\\onedrive\\a\\lib\\site-packages (from dash) (6.0.0)\n",
      "Requirement already satisfied: typing-extensions>=4.1.1 in c:\\users\\nadip\\onedrive\\a\\lib\\site-packages (from dash) (4.7.1)\n",
      "Requirement already satisfied: requests in c:\\users\\nadip\\onedrive\\a\\lib\\site-packages (from dash) (2.31.0)\n",
      "Requirement already satisfied: retrying in c:\\users\\nadip\\onedrive\\a\\lib\\site-packages (from dash) (1.3.4)\n",
      "Requirement already satisfied: nest-asyncio in c:\\users\\nadip\\onedrive\\a\\lib\\site-packages (from dash) (1.5.6)\n",
      "Requirement already satisfied: setuptools in c:\\users\\nadip\\onedrive\\a\\lib\\site-packages (from dash) (68.0.0)\n",
      "Requirement already satisfied: Jinja2>=3.0 in c:\\users\\nadip\\onedrive\\a\\lib\\site-packages (from Flask<3.1,>=1.0.4->dash) (3.1.2)\n",
      "Requirement already satisfied: itsdangerous>=2.0 in c:\\users\\nadip\\onedrive\\a\\lib\\site-packages (from Flask<3.1,>=1.0.4->dash) (2.0.1)\n",
      "Requirement already satisfied: click>=8.0 in c:\\users\\nadip\\onedrive\\a\\lib\\site-packages (from Flask<3.1,>=1.0.4->dash) (8.0.4)\n",
      "Requirement already satisfied: tenacity>=6.2.0 in c:\\users\\nadip\\onedrive\\a\\lib\\site-packages (from plotly>=5.0.0->dash) (8.2.2)\n",
      "Requirement already satisfied: MarkupSafe>=2.1.1 in c:\\users\\nadip\\onedrive\\a\\lib\\site-packages (from Werkzeug<3.1->dash) (2.1.1)\n",
      "Requirement already satisfied: zipp>=0.5 in c:\\users\\nadip\\onedrive\\a\\lib\\site-packages (from importlib-metadata->dash) (3.11.0)\n",
      "Requirement already satisfied: charset-normalizer<4,>=2 in c:\\users\\nadip\\onedrive\\a\\lib\\site-packages (from requests->dash) (2.0.4)\n",
      "Requirement already satisfied: idna<4,>=2.5 in c:\\users\\nadip\\onedrive\\a\\lib\\site-packages (from requests->dash) (3.4)\n",
      "Requirement already satisfied: urllib3<3,>=1.21.1 in c:\\users\\nadip\\onedrive\\a\\lib\\site-packages (from requests->dash) (1.26.16)\n",
      "Requirement already satisfied: certifi>=2017.4.17 in c:\\users\\nadip\\onedrive\\a\\lib\\site-packages (from requests->dash) (2023.7.22)\n",
      "Requirement already satisfied: six>=1.7.0 in c:\\users\\nadip\\onedrive\\a\\lib\\site-packages (from retrying->dash) (1.16.0)\n",
      "Requirement already satisfied: colorama in c:\\users\\nadip\\onedrive\\a\\lib\\site-packages (from click>=8.0->Flask<3.1,>=1.0.4->dash) (0.4.6)\n"
     ]
    }
   ],
   "source": [
    "pip install dash"
   ]
  },
  {
   "cell_type": "code",
   "execution_count": 8,
   "id": "89fd3feb",
   "metadata": {},
   "outputs": [
    {
     "name": "stdout",
     "output_type": "stream",
     "text": [
      "Requirement already satisfied: dash-renderer in c:\\users\\nadip\\onedrive\\a\\lib\\site-packages (1.9.1)Note: you may need to restart the kernel to use updated packages.\n",
      "\n",
      "Requirement already satisfied: dash-html-components in c:\\users\\nadip\\onedrive\\a\\lib\\site-packages (2.0.0)\n",
      "Requirement already satisfied: dash-core-components in c:\\users\\nadip\\onedrive\\a\\lib\\site-packages (2.0.0)\n"
     ]
    }
   ],
   "source": [
    "pip install dash-renderer dash-html-components dash-core-components"
   ]
  },
  {
   "cell_type": "code",
   "execution_count": 9,
   "id": "d009854a",
   "metadata": {},
   "outputs": [
    {
     "data": {
      "text/html": [
       "\n",
       "        <iframe\n",
       "            width=\"100%\"\n",
       "            height=\"650\"\n",
       "            src=\"http://127.0.0.1:8050/\"\n",
       "            frameborder=\"0\"\n",
       "            allowfullscreen\n",
       "            \n",
       "        ></iframe>\n",
       "        "
      ],
      "text/plain": [
       "<IPython.lib.display.IFrame at 0x25b39c29e10>"
      ]
     },
     "metadata": {},
     "output_type": "display_data"
    }
   ],
   "source": [
    "import requests\n",
    "import dash\n",
    "import dash_core_components as dcc\n",
    "import dash_html_components as html\n",
    "\n",
    "# Make a request to the Random User Generator API\n",
    "response = requests.get(\"https://randomuser.me/api/\")\n",
    "\n",
    "# Check if the request was successful\n",
    "if response.status_code == 200:\n",
    "    # Parse the JSON data\n",
    "    data = response.json()\n",
    "    user_data = data[\"results\"][0]\n",
    "else:\n",
    "    print(\"Error:\", response.status_code)\n",
    "    user_data = {}\n",
    "\n",
    "# Create the Dash app\n",
    "app = dash.Dash(__name__)\n",
    "\n",
    "# Define the layout\n",
    "app.layout = html.Div(children=[\n",
    "    html.H1(\"Random User Dashboard\"),\n",
    "    html.Div([\n",
    "        html.Img(src=user_data.get(\"picture\", {}).get(\"large\", \"\"), style={\"max-width\": \"200px\"}),\n",
    "        html.H2(f\"{user_data.get('Full Name', {}).get('first', '')} {user_data.get('name', {}).get('last', '')}\"),\n",
    "        html.P(f\"Email id: {user_data.get('email', '')}\"),\n",
    "        html.P(f\"Location: {user_data.get('location', {}).get('city', '')}, {user_data.get('location', {}).get('country', '')}\"),\n",
    "        html.P(f\"Age: {user_data.get('dob', {}).get('age', '')}\"),\n",
    "    ])\n",
    "])\n",
    "\n",
    "# Run the app\n",
    "if __name__ == '__main__':\n",
    "    app.run_server(debug=True)"
   ]
  },
  {
   "cell_type": "code",
   "execution_count": null,
   "id": "b173212c",
   "metadata": {},
   "outputs": [],
   "source": []
  }
 ],
 "metadata": {
  "kernelspec": {
   "display_name": "Python 3 (ipykernel)",
   "language": "python",
   "name": "python3"
  },
  "language_info": {
   "codemirror_mode": {
    "name": "ipython",
    "version": 3
   },
   "file_extension": ".py",
   "mimetype": "text/x-python",
   "name": "python",
   "nbconvert_exporter": "python",
   "pygments_lexer": "ipython3",
   "version": "3.11.5"
  }
 },
 "nbformat": 4,
 "nbformat_minor": 5
}
